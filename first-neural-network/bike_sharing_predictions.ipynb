{
 "cells": [
  {
   "cell_type": "markdown",
   "metadata": {},
   "source": [
    "# Bike Rental Predictions\n",
    "\n",
    "In this project, you'll build your first neural network and use it to predict daily bike rental ridership. We've provided some of the code, but left the implementation of the neural network up to you (for the most part). After you've submitted this project, feel free to explore the data and the model more.\n"
   ]
  },
  {
   "cell_type": "code",
   "execution_count": null,
   "metadata": {
    "collapsed": true
   },
   "outputs": [],
   "source": [
    "%matplotlib inline\n",
    "%config InlineBackend.figure_format = 'retina'\n",
    "\n",
    "import numpy as np\n",
    "import pandas as pd\n",
    "import matplotlib.pyplot as plt"
   ]
  },
  {
   "cell_type": "markdown",
   "metadata": {},
   "source": [
    "## Load and prepare the data\n",
    "\n",
    "A critical step in working with neural networks is preparing the data correctly. Variables on different scales make it difficult for the network to efficiently learn the correct weights. Below, we've written the code to load and prepare the data. You'll learn more about this soon!"
   ]
  },
  {
   "cell_type": "code",
   "execution_count": null,
   "metadata": {
    "collapsed": true
   },
   "outputs": [],
   "source": [
    "data_path = 'Bike-Sharing-Dataset/hour.csv'\n",
    "\n",
    "rides = pd.read_csv(data_path)"
   ]
  },
  {
   "cell_type": "code",
   "execution_count": null,
   "metadata": {
    "scrolled": true
    "collapsed": true
   },
   "outputs": [],
   "source": [
    "rides.head()"
   ]
  },
  {
   "cell_type": "markdown",
   "metadata": {},
   "source": [
    "## Checking out the data\n",
    "\n",
    "This dataset has the number of riders for each hour of each day from January 1 2011 to December 31 2012. The number of riders is split between casual and registered, summed up in the `cnt` column. You can see the first few rows of the data above.\n",
    "\n",
    "Below is a plot showing the number of bike riders over the first 10 days or so in the data set. (Some days don't have exactly 24 entries in the data set, so it's not exactly 10 days.) You can see the hourly rentals here. This data is pretty complicated! The weekends have lower over all ridership and there are spikes when people are biking to and from work during the week. Looking at the data above, we also have information about temperature, humidity, and windspeed, all of these likely affecting the number of riders. You'll be trying to capture all this with your model."
   ]
  },
  {
   "cell_type": "code",
   "execution_count": null,
   "metadata": {},
   "outputs": [],
   "source": [
    "rides[:24*10].plot(x='dteday', y='cnt')"
   ]
  },
  {
   "cell_type": "markdown",
   "metadata": {},
   "source": [
    "### Dummy variables\n",
    "Here we have some categorical variables like season, weather, month. To include these in our model, we'll need to make binary dummy variables. This is simple to do with Pandas thanks to `get_dummies()`."
   ]
  },
  {
   "cell_type": "code",
   "execution_count": null,
   "metadata": {},
   "outputs": [],
   "source": [
    "dummy_fields = ['season', 'weathersit', 'mnth', 'hr', 'weekday']\n",
    "for each in dummy_fields:\n",
    "    dummies = pd.get_dummies(rides[each], prefix=each, drop_first=False)\n",
    "    rides = pd.concat([rides, dummies], axis=1)\n",
    "\n",
    "fields_to_drop = ['instant', 'dteday', 'season', 'weathersit', \n",
    "                  'weekday', 'atemp', 'mnth', 'workingday', 'hr']\n",
    "data = rides.drop(fields_to_drop, axis=1)\n",
    "data.head()"
   ]
  },
  {
   "cell_type": "markdown",
   "metadata": {},
   "source": [
    "### Scaling target variables\n",
    "To make training the network easier, we'll standardize each of the continuous variables. That is, we'll shift and scale the variables such that they have zero mean and a standard deviation of 1.\n",
    "\n",
    "The scaling factors are saved so we can go backwards when we use the network for predictions."
   ]
  },
  {
   "cell_type": "code",
   "execution_count": null,
   "metadata": {},
   "outputs": [],
   "source": [
    "quant_features = ['casual', 'registered', 'cnt', 'temp', 'hum', 'windspeed']\n",
    "# Store scalings in a dictionary so we can convert back later\n",
    "scaled_features = {}\n",
    "for feature in quant_features:\n",
    "    mean, std = data[feature].mean(), data[feature].std()\n",
    "    scaled_features[feature] = [mean, std]\n",
    "    data.loc[:, feature] = (data[feature] - mean)/std\n",
    "scaled_features"
   ]
  },
  {
   "cell_type": "code",
   "execution_count": null,
   "metadata": {},
   "outputs": [],
   "source": [
    "data.head()"
   ]
  },
  {
   "cell_type": "code",
   "execution_count": null,
   "metadata": {},
   "outputs": [],
   "source": [
    "data['temp'].plot(x='hour since origin', y='normalized temp')"
   ]
  },
  {
   "cell_type": "markdown",
   "metadata": {},
   "source": [
    "### Splitting the data into training, testing, and validation sets\n",
    "\n",
    "We'll save the data for the last approximately 21 days to use as a test set after we've trained the network. We'll use this set to make predictions and compare them with the actual number of riders."
   ]
  },
  {
   "cell_type": "code",
   "execution_count": null,
   "metadata": {
    "collapsed": true
   },
   "outputs": [],
   "source": [
    "# Save data for approximately the last 21 days \n",
    "test_data = data[-21*24:]\n",
    "\n",
    "# Now remove the test data from the data set \n",
    "data = data[:-21*24]\n",
    "\n",
    "# Separate the data into features and targets\n",
    "target_fields = ['cnt', 'casual', 'registered']\n",
    "features, targets = data.drop(target_fields, axis=1), data[target_fields]\n",
    "test_features, test_targets = test_data.drop(target_fields, axis=1), test_data[target_fields]"
   ]
  },
  {
   "cell_type": "markdown",
   "metadata": {},
   "source": [
    "We'll split the data into two sets, one for training and one for validating as the network is being trained. Since this is time series data, we'll train on historical data, then try to predict on future data (the validation set)."
   ]
  },
  {
   "cell_type": "code",
   "execution_count": null,
   "metadata": {
    "collapsed": true
   },
   "outputs": [],
   "source": [
    "# Hold out the last 60 days or so of the remaining data as a validation set\n",
    "train_features, train_targets = features[:-60*24], targets[:-60*24]\n",
    "val_features, val_targets = features[-60*24:], targets[-60*24:]"
   ]
  },
  {
   "cell_type": "markdown",
   "metadata": {},
   "source": [
    "## Time to build the network\n",
    "\n",
    "Below you'll build your network. We've built out the structure and the backwards pass. You'll implement the forward pass through the network. You'll also set the hyperparameters: the learning rate, the number of hidden units, and the number of training passes.\n",
    "\n",
    "<img src=\"assets/neural_network.png\" width=300px>\n",
    "\n",
    "The network has two layers, a hidden layer and an output layer. The hidden layer will use the sigmoid function for activations. The output layer has only one node and is used for the regression, the output of the node is the same as the input of the node. That is, the activation function is $f(x)=x$. A function that takes the input signal and generates an output signal, but takes into account the threshold, is called an activation function. We work through each layer of our network calculating the outputs for each neuron. All of the outputs from one layer become inputs to the neurons on the next layer. This process is called *forward propagation*.\n",
    "\n",
    "We use the weights to propagate signals forward from the input to the output layers in a neural network. We use the weights to also propagate error backwards from the output back into the network to update our weights. This is called *backpropagation*.\n",
    "\n",
    "> **Hint:** You'll need the derivative of the output activation function ($f(x) = x$) for the backpropagation implementation. If you aren't familiar with calculus, this function is equivalent to the equation $y = x$. What is the slope of that equation? That is the derivative of $f(x)$.\n",
    "\n",
    "Below, you have these tasks:\n",
    "1. Implement the sigmoid function to use as the activation function. Set `self.activation_function` in `__init__` to your sigmoid function.\n",
    "2. Implement the forward pass in the `train` method.\n",
    "3. Implement the backpropagation algorithm in the `train` method, including calculating the output error.\n",
    "4. Implement the forward pass in the `run` method.\n",
    "  "
   ]
  },
  {
   "cell_type": "code",
   "execution_count": null,
   "metadata": {
    "collapsed": true
   },
   "outputs": [],
   "source": [
    "class NeuralNetwork(object):\n",
    "    \n",
    "    def __init__(self, input_nodes, hidden_nodes, output_nodes, learning_rate, debug = False):\n",
    "        \n",
    "        # Set number of nodes in input, hidden and output layers.\n",
    "        \n",
    "        self.input_nodes = input_nodes\n",
    "        self.hidden_nodes = hidden_nodes\n",
    "        self.output_nodes = output_nodes\n",
    "\n",
    "        # Initialize weights\n",
    "        \n",
    "        self.weights_input_to_hidden = np.random.normal(\n",
    "            0.0, self.input_nodes**-0.5, \n",
    "            (self.input_nodes, self.hidden_nodes))\n",
    "        self.weights_hidden_to_output = np.random.normal(\n",
    "            0.0, self.hidden_nodes**-0.5, \n",
    "            (self.hidden_nodes, self.output_nodes))        \n",
    "        \n",
    "        self.lr = learning_rate\n",
    "        \n",
    "        self.activation_function = lambda x : 1.0 / (1.0 + np.exp(-x))\n",
    "        # Activation function set to a sigmoid.\n",
    "        \n",
    "        self.activation_derivative = lambda x : \\\n",
    "            self.activation_function(x) * (1 - self.activation_function(x))\n",
    "            \n",
    "        self.debug = debug\n",
    "    \n",
    "    def train(self, features, targets, learning_rate = None):\n",
    "        ''' Train the network on batch of features and targets. \n",
    "        \n",
    "            Arguments\n",
    "            ---------\n",
    "            \n",
    "            features: 2D array, each row is one data record, each column is a feature\n",
    "            targets: 1D array of target values\n",
    "        \n",
    "        '''\n",
    "        \n",
    "        n_records = features.shape[0]\n",
    "        delta_weights_i_h = np.zeros(self.weights_input_to_hidden.shape)\n",
    "        delta_weights_h_o = np.zeros(self.weights_hidden_to_output.shape)\n",
    "        \n",
    "        for feature, target in zip(features, targets):\n",
    "            '''\n",
    "            Implementation of networks forward (inference) pass.\n",
    "            '''\n",
    "            \n",
    "            inputs = np.array([feature]) # Convert to matrix to make life easier.\n",
    "            # self.printif ('inputs: %s' % inputs)\n",
    "            \n",
    "            # self.printif ('== FORWARD > HIDDEN ====================================================')\n",
    "            \n",
    "            h_inputs = np.matmul(inputs, self.weights_input_to_hidden)\n",
    "            # self.printif ('h_inputs: %s' % h_inputs)\n",
    "            h_outputs = self.activation_function(h_inputs)\n",
    "            # self.printif ('h_outputs: %s' % h_outputs)\n",
    "            h_derivatives = self.activation_derivative(h_inputs)\n",
    "            # self.printif ('h_derivatives: %s' % h_derivatives)\n",
    "            \n",
    "            # self.printif ('== FORWARD > OUTPUT ====================================================')\n",
    "\n",
    "            o_inputs = np.matmul(h_outputs, self.weights_hidden_to_output)\n",
    "            # self.printif ('o_inputs: %s' % o_inputs)\n",
    "            o_outputs = o_inputs # f(x) = x\n",
    "            # self.printif ('o_outputs: %s' % o_outputs)\n",
    "            \n",
    "            # self.printif ('== LOSS ================================================================')\n",
    "            \n",
    "            output_error = target - o_outputs\n",
    "            # self.printif ('output_error: %s' % output_error)\n",
    "            output_loss = 0.5 * (output_error)**2  # Normally the sum across all output losses\n",
    "            # self.printif ('output_loss: %s' % output_loss)\n",
    "            # loss_to_output_gradient = - (target - o_outputs)  # f'(x) = - (expected - actual), f(x) = 0.5 (e - a)**2\n",
    "            # # self.printif ('loss_to_output_gradient: %s' % loss_to_output_gradient)\n",
    "            \n",
    "            # self.printif ('== BACKWARD > OUTPUT ===================================================')\n",
    "\n",
    "            o_error = output_error  # Why not the loss_to_output_gradient\n",
    "            o_error_delta = o_error * np.array([[1]]) # f(x) = x -> f'(x) = 1\n",
    "            # self.printif ('o_error_delta: %s' % o_error_delta)\n",
    "            # self.printif ('delta_weights_h_o += h_outputs.T x o_error_delta')\n",
    "            # self.printif ('%s = %s x %s' % (delta_weights_h_o.shape, h_outputs.T.shape, o_error_delta.shape))\n",
    "            # self.printif ('h_outputs.T: %s' % h_outputs.T)\n",
    "            # self.printif ('o_error_delta: %s' % o_error_delta)\n",
    "            delta_weights_h_o += np.matmul(h_outputs.T, o_error_delta)\n",
    "            # self.printif ('delta_weights_h_o: %s' % delta_weights_h_o)\n",
    "\n",
    "            # self.printif ('== BACKWARD > HIDDEN ===================================================')\n",
    "            \n",
    "            # self.printif ('h_error = o_error_delta x weights_hidden_to_output.T')\n",
    "            # self.printif ('h_error = %s x %s' % (o_error_delta.shape, self.weights_hidden_to_output.T.shape))\n",
    "            h_error = np.matmul(o_error_delta, self.weights_hidden_to_output.T)\n",
    "            # self.printif ('h_error [%s]: %s' % (h_error.shape, h_error))\n",
    "            h_error_delta = h_error * h_derivatives\n",
    "            # self.printif ('h_error_delta [%s] = : %s' % (h_error_delta.shape, h_error_delta))\n",
    "            delta_weights_i_h += np.matmul(inputs.T, h_error_delta)\n",
    "            # self.printif ('delta_weights_i_h [%s]: %s' % (delta_weights_i_h.shape, delta_weights_i_h))\n",
    "            \n",
    "        \n",
    "        # self.printif ('== EPOCH > UPDATE WEIGHTS ===============================================')\n",
    "        \n",
    "        lr = self.lr if learning_rate == None else learning_rate\n",
    "        \n",
    "        # self.printif ('n_records: %d: ' % n_records)\n",
    "        # self.printif ('delta_weights_h_o: %s' % delta_weights_h_o)\n",
    "        self.weights_hidden_to_output += lr * delta_weights_h_o / n_records\n",
    "        # self.printif ('self.weights_hidden_to_output: %s' % self.weights_hidden_to_output)\n",
    "        # self.printif ('delta_weights_i_h: %s' % delta_weights_h_o)\n",
    "        self.weights_input_to_hidden += lr * delta_weights_i_h / n_records\n",
    "        # self.printif ('self.weights_input_to_hidden: %s' % self.weights_input_to_hidden)\n",
    " \n",
    "    def run(self, features):\n",
    "        ''' Run a forward pass through the network with input features \n",
    "        \n",
    "            Arguments\n",
    "            ---------\n",
    "            features: 1D array of feature values\n",
    "        '''\n",
    "        \n",
    "        # Forward Prop - Hidden Layer\n",
    "\n",
    "        h_inputs = np.array(features) # Convert to matrix to make life easier.\n",
    "        # # self.printif (h_inputs)\n",
    "        h_weighted = np.matmul(h_inputs, self.weights_input_to_hidden)\n",
    "        # # self.printif (h_weighted)\n",
    "        h_outputs = self.activation_function(h_weighted)\n",
    "        # # self.printif (h_outputs)\n",
    "\n",
    "        # Forward Prop - Output Layer\n",
    "\n",
    "        o_inputs = h_outputs\n",
    "        # # self.printif (o_inputs)\n",
    "        o_weighted = np.matmul(o_inputs, self.weights_hidden_to_output)\n",
    "        # # self.printif (o_weighted)\n",
    "        o_outputs = o_weighted # f(x) = x\n",
    "        # # self.printif (o_outputs)\n",
    "        \n",
    "        return o_outputs\n",
    "    \n",
    "    def enable_debug(self):\n",
    "        \n",
    "        self.debug = True\n",
    "    \n",
    "    def printif(self, str):\n",
    "        \n",
    "        if self.debug: print (str)\n"
   ]
  },
  {
   "cell_type": "code",
   "execution_count": null,
   "metadata": {
    "collapsed": true
   },
   "outputs": [],
   "source": [
    "def MSE(y, Y):\n",
    "    return np.mean((y-Y)**2)"
   ]
  },
  {
   "cell_type": "markdown",
   "metadata": {},
   "source": [
    "## Unit tests\n",
    "\n",
    "Run these unit tests to check the correctness of your network implementation. This will help you be sure your network was implemented correctly befor you starting trying to train it. These tests must all be successful to pass the project."
   ]
  },
  {
   "cell_type": "code",
   "execution_count": null,
   "metadata": {},
   "outputs": [],
   "source": [
    "import unittest\n",
    "import numpy as np\n",
    "\n",
    "inputs = np.array(\n",
    "    [\n",
    "        [0.5, -0.2, 0.1]\n",
    "    ])\n",
    "targets = np.array(\n",
    "    [\n",
    "        [0.4]\n",
    "    ])\n",
    "test_w_i_h = np.array(\n",
    "    [\n",
    "        [0.1, -0.2],\n",
    "        [0.4, 0.5],\n",
    "        [-0.3, 0.2]\n",
    "    ])\n",
    "test_w_h_o = np.array(\n",
    "    [\n",
    "        [0.3],\n",
    "        [-0.1]\n",
    "    ])\n",
    "\n",
    "class TestMethods(unittest.TestCase):\n",
    "    \n",
    "    ##########\n",
    "    # Unit tests for data loading\n",
    "    ##########\n",
    "    \n",
    "    def test_data_path(self):\n",
    "        # Test that file path to dataset has been unaltered\n",
    "        self.assertTrue(data_path.lower() == 'bike-sharing-dataset/hour.csv')\n",
    "        \n",
    "    def test_data_loaded(self):\n",
    "        # Test that data frame loaded\n",
    "        self.assertTrue(isinstance(rides, pd.DataFrame))\n",
    "    \n",
    "    ##########\n",
    "    # Unit tests for network functionality\n",
    "    ##########\n",
    "\n",
    "    def test_activation(self):\n",
    "        network = NeuralNetwork(3, 2, 1, 0.5)\n",
    "        # Test that the activation function is a sigmoid\n",
    "        self.assertTrue(np.all(network.activation_function(0.5) == 1/(1+np.exp(-0.5))))\n",
    "\n",
    "    def test_train(self):\n",
    "        # Test that weights are updated correctly on training\n",
    "        network = NeuralNetwork(3, 2, 1, 0.5)\n",
    "        network.weights_input_to_hidden = test_w_i_h.copy()\n",
    "        network.weights_hidden_to_output = test_w_h_o.copy()\n",
    "        \n",
    "        network.train(inputs, targets)\n",
    "        \n",
    "        expected_weights_hidden_to_output = np.array(\n",
    "            [\n",
    "                [ 0.37275328], \n",
    "                [-0.03172939]\n",
    "            ])\n",
    "        print ('network.weights_hidden_to_output: ' + str(network.weights_hidden_to_output))\n",
    "        print ('expected: ' + str(expected_weights_hidden_to_output))\n",
    "        self.assertTrue(np.allclose(\n",
    "            network.weights_hidden_to_output, \n",
    "            expected_weights_hidden_to_output))\n",
    "        \n",
    "        expected_weights_input_to_hidden = np.array(\n",
    "            [\n",
    "                [ 0.10562014, -0.20185996], \n",
    "                [0.39775194, 0.50074398], \n",
    "                [-0.29887597, 0.19962801]\n",
    "            ])\n",
    "        self.assertTrue(np.allclose(\n",
    "            network.weights_input_to_hidden,\n",
    "            expected_weights_input_to_hidden))\n",
    "\n",
    "    def test_run(self):\n",
    "        # Test correctness of run method\n",
    "        network = NeuralNetwork(3, 2, 1, 0.5)\n",
    "        network.weights_input_to_hidden = test_w_i_h.copy()\n",
    "        network.weights_hidden_to_output = test_w_h_o.copy()\n",
    "\n",
    "        self.assertTrue(np.allclose(network.run(inputs), 0.09998924))\n",
    "\n",
    "suite = unittest.TestLoader().loadTestsFromModule(TestMethods())\n",
    "unittest.TextTestRunner().run(suite)"
   ]
  },
  {
   "cell_type": "markdown",
   "metadata": {},
   "source": [
    "## Training the network\n",
    "\n",
    "Here you'll set the hyperparameters for the network. The strategy here is to find hyperparameters such that the error on the training set is low, but you're not overfitting to the data. If you train the network too long or have too many hidden nodes, it can become overly specific to the training set and will fail to generalize to the validation set. That is, the loss on the validation set will start increasing as the training set loss drops.\n",
    "\n",
    "You'll also be using a method know as Stochastic Gradient Descent (SGD) to train the network. The idea is that for each training pass, you grab a random sample of the data instead of using the whole data set. You use many more training passes than with normal gradient descent, but each pass is much faster. This ends up training the network more efficiently. You'll learn more about SGD later.\n",
    "\n",
    "### Choose the number of iterations\n",
    "This is the number of batches of samples from the training data we'll use to train the network. The more iterations you use, the better the model will fit the data. However, this process can have sharply diminishing returns and can waste computational resources if you use too many iterations.  You want to find a number here where the network has a low training loss, and the validation loss is at a minimum. The ideal number of iterations would be a level that stops shortly after the validation loss is no longer decreasing.\n",
    "\n",
    "### Choose the learning rate\n",
    "This scales the size of weight updates. If this is too big, the weights tend to explode and the network fails to fit the data. Normally a good choice to start at is 0.1; however, if you effectively divide the learning rate by n_records, try starting out with a learning rate of 1. In either case, if the network has problems fitting the data, try reducing the learning rate. Note that the lower the learning rate, the smaller the steps are in the weight updates and the longer it takes for the neural network to converge.\n",
    "\n",
    "### Choose the number of hidden nodes\n",
    "In a model where all the weights are optimized, the more hidden nodes you have, the more accurate the predictions of the model will be.  (A fully optimized model could have weights of zero, after all.) However, the more hidden nodes you have, the harder it will be to optimize the weights of the model, and the more likely it will be that suboptimal weights will lead to overfitting. With overfitting, the model will memorize the training data instead of learning the true pattern, and won't generalize well to unseen data.  \n",
    "\n",
    "Try a few different numbers and see how it affects the performance. You can look at the losses dictionary for a metric of the network performance. If the number of hidden units is too low, then the model won't have enough space to learn and if it is too high there are too many options for the direction that the learning can take. The trick here is to find the right balance in number of hidden units you choose.  You'll generally find that the best number of hidden nodes to use ends up being between the number of input and output nodes."
   ]
  },
  {
   "cell_type": "code",
   "execution_count": null,
   "metadata": {},
   "outputs": [],
   "source": [
    "import sys\n",
    "\n",
    "### Set the hyperparameters here ###\n",
    "iterations = 10000\n",
    "begin_learning_rate = 0.3\n",
    "end_learning_rate = 0.05\n",
    "hidden_nodes = 32\n",
    "output_nodes = 1\n",
    "\n",
    "N_i = train_features.shape[1]\n",
    "network = NeuralNetwork(N_i, hidden_nodes, output_nodes, begin_learning_rate)\n",
    "\n",
    "losses = {'train':[], 'validation':[]}\n",
    "for ii in range(iterations):\n",
    "    # Go through a random batch of 128 records from the training data set\n",
    "    batch = np.random.choice(train_features.index, size=128)\n",
    "    X, y = train_features.ix[batch].values, train_targets.ix[batch]['cnt']\n",
    "                             \n",
    "    learn_rate = begin_learning_rate + ii * (end_learning_rate - begin_learning_rate) / iterations\n",
    "    network.train(X, y, learn_rate)\n",
    "    \n",
    "    # Printing out the training progress\n",
    "    train_loss = MSE(network.run(train_features).T, train_targets['cnt'].values)\n",
    "    val_loss = MSE(network.run(val_features).T, val_targets['cnt'].values)\n",
    "    sys.stdout.write(\"\\rProgress: {:2.1f}\".format(100 * ii/float(iterations)) \\\n",
    "                     + \"% ... Training loss: \" + str(train_loss)[:5] \\\n",
    "                     + \" ... Validation loss: \" + str(val_loss)[:5])\n",
    "    sys.stdout.flush()\n",
    "    \n",
    "    losses['train'].append(train_loss)\n",
    "    losses['validation'].append(val_loss)"
   ]
  },
  {
   "cell_type": "code",
   "execution_count": null,
   "metadata": {
    "scrolled": false
   },
   "outputs": [],
   "source": [
    "plt.plot(losses['train'], label='Training loss')\n",
    "plt.plot(losses['validation'], label='Validation loss')\n",
    "plt.legend()\n",
    "_ = plt.ylim(0, 1)"
   ]
  },
  {
   "cell_type": "markdown",
   "metadata": {},
   "source": [
    "## Check out your predictions\n",
    "\n",
    "Here, use the test data to view how well your network is modeling the data. If something is completely wrong here, make sure each step in your network is implemented correctly."
   ]
  },
  {
   "cell_type": "code",
   "execution_count": null,
   "metadata": {
    "collapsed": true
   },
   "outputs": [],
   "source": [
    "mean, std = scaled_features['cnt']\n",
    "predictions = network.run(test_features).T*std + mean"
   ]
  },
  {
   "cell_type": "code",
   "execution_count": null,
   "metadata": {},
   "outputs": [],
   "source": [
    "fig, ax = plt.subplots(figsize=(16,4))\n",
    "ax.plot(predictions[0], label='Prediction')\n",
    "ax.plot((test_targets['cnt']*std + mean).values, label='Data')\n",
    "ax.set_xlim(right=len(predictions))\n",
    "ax.legend()\n",
    "\n",
    "dates = pd.to_datetime(rides.ix[test_data.index]['dteday'])\n",
    "dates = dates.apply(lambda d: d.strftime('%b %d'))\n",
    "ax.set_xticks(np.arange(len(dates))[12::24])\n",
    "_ = ax.set_xticklabels(dates[12::24], rotation=45)"
   ]
  },
  {
   "cell_type": "markdown",
   "metadata": {},
   "source": [
    "## OPTIONAL: Thinking about your results(this question will not be evaluated in the rubric).\n",
    " \n",
    "Answer these questions about your results. How well does the model predict the data? Where does it fail? Why does it fail where it does?\n",
    "\n",
    "| Hidden Nodes |  Iterations  |  Learn Rate  |  Train Loss  |   Test Loss  |                Notes                    |\n",
    "|--------------|--------------|--------------|--------------|--------------|-----------------------------------------|\n",
    "|       16     |       200    |      0.1     |     0.66     |     1.22     |                                         |\n",
    "|       32     |       200    |      0.1     |     0.61     |     1.02     |                                         |\n",
    "|       32     |       200    |      0.2     |     0.48     |     0.81     | Jumpy early, but smooths down.          |\n",
    "|       32     |       600    |      0.2     |     0.31     |     0.46     | Jumpy early, but smooths down.          |\n",
    "|       32     |      1000    |      0.2     |     0.30     |     0.45     | No further progress with more iters     |\n",
    "|       32     |      1000    |  0.3 -> 0.1  |     0.28     |     0.45     | Starting to see overfitting             |\n",
    "|       32     |     10000    |  0.3 -> 0.05 |     0.076    |     0.161    | Giving it a little longer dipped more   |\n",
    "|       48     |       500    |  0.2 -> 0.05 |     0.36     |     0.60     | Test loss stopped improving             |\n",
    "|       64     |       200    |      0.1     |     0.56     |     1.01     |                                         |\n",
    "|       64     |       200    |      0.2     |     0.65     |     1.12     | Converges very slowly                   |\n",
    "|      128     |       200    |      0.1     |     0.74     |     1.26     | Loss jumps around long into epochs      |\n",
    "\n",
    "#### Your answer below"
   ]
  },
  {
   "cell_type": "markdown",
   "metadata": {
    "collapsed": true
   },
   "source": [
    "The model does a decent job of fitting the model, but exaggerates the peaks and has a hard time over the holidays. It seems a single layer cannot accurately capture atypical days such as holidays, probably partially because we don't have a lot of data on them, but also perhaps because just one non-linearity can't fit well enough. I also wonder if using a better loss function such as the mean squared error on the output would make it converge more closely. Alas, I didn't have time to try that out.\n",
    "\n",
    "The learning seemed to work best starting at around 0.2 and degrading to 0.1 or 0.05 toward the end. However, in this case, pretty much any number below 0.3 that I tried would eventually converge to the same losses.\n",
    "\n",
    "**The lowest losses of 0.076 for training and 0.161 for testing were with around 32 hidden nodes, trained for 10000 iterations, depending on the learning rate.**"
   ]
  },
  {
   "cell_type": "code",
   "execution_count": null,
   "metadata": {
    "collapsed": true
   },
   "outputs": [],
   "source": []
  }
 ],
 "metadata": {
  "anaconda-cloud": {},
  "kernelspec": {
   "display_name": "Python [conda root]",
   "language": "python",
   "name": "conda-root-py"
  },
  "language_info": {
   "codemirror_mode": {
    "name": "ipython",
    "version": 3
   },
   "file_extension": ".py",
   "mimetype": "text/x-python",
   "name": "python",
   "nbconvert_exporter": "python",
   "pygments_lexer": "ipython3",
   "version": "3.6.2"
  }
 },
 "nbformat": 4,
 "nbformat_minor": 2
}
